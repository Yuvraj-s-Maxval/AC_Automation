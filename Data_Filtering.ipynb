{
 "cells": [
  {
   "cell_type": "code",
   "execution_count": 17,
   "metadata": {},
   "outputs": [],
   "source": [
    "def data_filtering(df):\n",
    "        \"\"\"\n",
    "        This function filters the input DataFrame based on specific conditions and returns two DataFrames: one for patent-related data and another for trademark-related data.\n",
    "\n",
    "        Parameters:\n",
    "        - df (DataFrame): The input DataFrame to be filtered.\n",
    "\n",
    "        Returns:\n",
    "        - patent_df (DataFrame): A DataFrame containing patent-related data after filtering.\n",
    "        - trademark_df (DataFrame): A DataFrame containing trademark-related data after filtering.\n",
    "\n",
    "        The filtering process involves the following steps:\n",
    "        1. Remove rows where 'DeadlineType' is 'Internal Deadline'.\n",
    "        2. Iterate over each row to check for specific conditions in 'Owner', 'Matter.Title', 'Matter.Type', and 'TaskType' columns.\n",
    "        3. If any of the conditions are met, the index of that row is added to a list of indexes to be filtered.\n",
    "        4. Drop rows based on the list of indexes.\n",
    "        5. Create a patent_df by dropping 'Matter.Title' column from the filtered DataFrame.\n",
    "        6. Create a trademark_df as a copy of the filtered DataFrame.\n",
    "        \"\"\"\n",
    "        # Removing the internal deadlines\n",
    "        df = df[df['DeadlineType'] != 'Internal Deadline']\n",
    "        df = df.reset_index(drop=True)\n",
    "\n",
    "        indexes_filtered = []\n",
    "\n",
    "        # Iterating over the Owner column to look for Brittany Steele\n",
    "        for i in range(len(df)):\n",
    "\n",
    "            # Extracting the owner and the Matter title\n",
    "            owner = df.at[i,'Owner']\n",
    "            matter_title = df.at[i,'Matter.Title']\n",
    "            matter_type = df.at[i, 'Matter.Type']\n",
    "            task_type = df.at[i,'TaskType']\n",
    "            \n",
    "            if owner == 'Brittany Steele' or owner == 'Faisal Khan' or 'FTO' in matter_title or 'review' in task_type.lower() or 'trademark: opposition' in matter_type.lower():\n",
    "                \n",
    "                # Adding the index\n",
    "                indexes_filtered.append(i)\n",
    "\n",
    "        df = df.drop(indexes_filtered)\n",
    "        df = df.reset_index(drop=True)\n",
    "\n",
    "        # First layer of bifurcation\n",
    "        trademark_df = df[df['Matter.Type'].str.lower() == 'trademark']\n",
    "        patent_urgnent_nhd_df = df.drop(trademark_df.index)\n",
    "        return trademark_df,patent_urgnent_nhd_df\n",
    "\n",
    "        # patent_df = df.drop(['Matter.Title'],axis=1)\n",
    "        # trademark_df = df.copy()\n",
    "        # patent_df.to_excel(\"data/patent_data.xlsx\", index=False)\n",
    "        # trademark_df.to_excel(\"data/trademark.xlsx\", index=False)\n",
    "        # return patent_df,trademark_df"
   ]
  },
  {
   "cell_type": "code",
   "execution_count": 18,
   "metadata": {},
   "outputs": [],
   "source": [
    "def bifurcation(df):\n",
    "    eed_df = df[df['DeadlineType'] == 'Extendable External Deadline']\n",
    "    hed_df = df[df['DeadlineType'] == 'Hard External Deadline']  \n",
    "    return eed_df,hed_df"
   ]
  },
  {
   "cell_type": "code",
   "execution_count": 24,
   "metadata": {},
   "outputs": [],
   "source": [
    "import pandas as pd\n",
    "df = pd.read_csv(r\"C:\\Users\\yuvraj.s_maxval\\Documents\\GitHub\\AC_Automation\\artifacts\\AppCollTasksVisible20241129.csv\",encoding='latin')\n",
    "df = df.fillna(\"Missing Data\")\n",
    "\n",
    "trademark_df,patent_urgnent_nhd_df = data_filtering(df)"
   ]
  }
 ],
 "metadata": {
  "kernelspec": {
   "display_name": ".venv",
   "language": "python",
   "name": "python3"
  },
  "language_info": {
   "codemirror_mode": {
    "name": "ipython",
    "version": 3
   },
   "file_extension": ".py",
   "mimetype": "text/x-python",
   "name": "python",
   "nbconvert_exporter": "python",
   "pygments_lexer": "ipython3",
   "version": "3.12.6"
  }
 },
 "nbformat": 4,
 "nbformat_minor": 2
}
